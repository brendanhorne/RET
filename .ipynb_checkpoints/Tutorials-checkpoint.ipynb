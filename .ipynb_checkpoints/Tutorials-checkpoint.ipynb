{
 "cells": [
  {
   "cell_type": "markdown",
   "metadata": {},
   "source": [
    "# Week 1 - Introduction\n",
    "#### Tutorial 1.1\n",
    "If a system produces 1 Btu of energy every minute, what is the power produced in Watts?"
   ]
  },
  {
   "cell_type": "code",
   "execution_count": 45,
   "metadata": {},
   "outputs": [
    {
     "name": "stdout",
     "output_type": "stream",
     "text": [
      "17.584 W\n"
     ]
    }
   ],
   "source": [
    "Btu = 1055.06 #J\n",
    "W = Btu / 60\n",
    "print(f'{W:.5} W') #17.6 W"
   ]
  },
  {
   "cell_type": "markdown",
   "metadata": {},
   "source": [
    "#### Tutorial 1.2\n",
    "What is the kinetic energy associated with a 1500 kg automobile travelling at 100 km/h"
   ]
  },
  {
   "cell_type": "code",
   "execution_count": 46,
   "metadata": {},
   "outputs": [
    {
     "name": "stdout",
     "output_type": "stream",
     "text": [
      "5.787e+05 J\n"
     ]
    }
   ],
   "source": [
    "def kinetic_energy(m,v):\n",
    "    return 0.5*m*v**2\n",
    "m = 1500 #kg\n",
    "v = 100 #km/h\n",
    "v = v * 1000 / 60 / 60 #m/s\n",
    "E = kinetic_energy(m,v)\n",
    "print(f'{E:.5} J') #5.8 x 10^5 J"
   ]
  },
  {
   "cell_type": "markdown",
   "metadata": {},
   "source": [
    "#### Tutorial 1.3\n",
    "A 75 kg person walks up a flight of stairs with a vertical height of 3m. What is the change in that person's potential energy?"
   ]
  },
  {
   "cell_type": "code",
   "execution_count": 47,
   "metadata": {},
   "outputs": [
    {
     "name": "stdout",
     "output_type": "stream",
     "text": [
      "2207.2 J\n"
     ]
    }
   ],
   "source": [
    "def potential_energy(m, h):\n",
    "    g = 9.81 #m/s^2\n",
    "    return m*g*h\n",
    "m = 75\n",
    "h = 3\n",
    "P = potential_energy(m,h)\n",
    "print(f'{P:.5} J') #2.2 x 10^3 J"
   ]
  },
  {
   "cell_type": "markdown",
   "metadata": {},
   "source": [
    "#### Tutorial 1.4\n",
    "The specific heat of water is 4180 J/kg/K. Calculate the energy required to heat 500g of water from 20°C to 80°C."
   ]
  },
  {
   "cell_type": "code",
   "execution_count": 48,
   "metadata": {},
   "outputs": [
    {
     "name": "stdout",
     "output_type": "stream",
     "text": [
      "1.254e+05 J\n"
     ]
    }
   ],
   "source": [
    "def energy_to_heat(C, m, dt):\n",
    "    return C*m*dt\n",
    "C = 4180 #J/kg/K\n",
    "m = 500 #g\n",
    "m = m/1000 #kg\n",
    "dt = 80-20\n",
    "E = energy_to_heat(C, m, dt)\n",
    "print(f'{E:.5} J') #1.25 x 10^5 J"
   ]
  },
  {
   "cell_type": "markdown",
   "metadata": {},
   "source": [
    "#### Tutorial 1.5 \n",
    "Consider an ideal heat pump operating with a cold reservoir temperature of -20°C (e.g., outside on a cold winter day) and a hot reservoir at +20°C (e.g., inside a home). Calculate the idea (Carnot) coefficient of performance for this heat pump."
   ]
  },
  {
   "cell_type": "code",
   "execution_count": 49,
   "metadata": {},
   "outputs": [
    {
     "name": "stdout",
     "output_type": "stream",
     "text": [
      "7.3288\n"
     ]
    }
   ],
   "source": [
    "def coefficient_of_performance(tc, th):\n",
    "    return 1/(1-(tc/th))\n",
    "tc = 273.15 - 20\n",
    "th = 273.15 + 20\n",
    "COF = coefficient_of_performance(tc, th)\n",
    "print(f'{COF:.5}') #7.325"
   ]
  },
  {
   "cell_type": "markdown",
   "metadata": {},
   "source": [
    "# Week 2 - Bioenergy From Waste and Biomass\n",
    "#### Tutorial 2.1\n",
    "How much thermal energy is released by the complete burning of 150kg of sugarcane?"
   ]
  },
  {
   "cell_type": "code",
   "execution_count": 50,
   "metadata": {},
   "outputs": [
    {
     "name": "stdout",
     "output_type": "stream",
     "text": [
      "2910 MJ\n"
     ]
    }
   ],
   "source": [
    "LHV = 17.7 #17.7 to 17.9 MJ/kg\n",
    "HHV = 19.4 #17.3 to 19.4 MJ/kg\n",
    "m = 150 #kg\n",
    "E = HHV * m\n",
    "print(f'{E:.5g} MJ') # 2910 MJ"
   ]
  },
  {
   "cell_type": "markdown",
   "metadata": {},
   "source": [
    "#### Tutorial 2.2\n",
    "A direct-fired power plant burns corn stalks as fuel at a rate of 4.5 kg/s. The combustion, thermal and generator efficiencies are 0.85, 0.30 and 0.92, respectively. Find the electrical output power of the plant. If the corn stalks burn at 475 °C and the temperature of the environment is 20 °C, what is the maximum possible thermal efficiency of the plant?"
   ]
  },
  {
   "cell_type": "code",
   "execution_count": 51,
   "metadata": {},
   "outputs": [
    {
     "name": "stdout",
     "output_type": "stream",
     "text": [
      "Overall efficiency 0.2346\n",
      "Electrical output of the plant 19.53 MW\n",
      "Maximum possible thermal efficiency 0.60817\n"
     ]
    }
   ],
   "source": [
    "HHV = 18.5 #16.8-18.1 MJ/kg\n",
    "br = 4.5 #kg/s\n",
    "eta_comb = 0.85\n",
    "eta_therm = 0.3\n",
    "eta_gen = 0.92\n",
    "th = 273.15 + 475\n",
    "tc = 273.15 + 20\n",
    "P_comb = HHV*br\n",
    "eta = eta_comb*eta_therm*eta_gen\n",
    "print(f'Overall efficiency {eta:.5g}') #0.235\n",
    "P = P_comb*eta\n",
    "eta_therm_max = 1 - tc/th\n",
    "print(f'Electrical output of the plant {P:.5g} MW') #19.6MW\n",
    "print(f'Maximum possible thermal efficiency {eta_therm_max:.5g}') #0.6"
   ]
  },
  {
   "cell_type": "code",
   "execution_count": 52,
   "metadata": {},
   "outputs": [
    {
     "name": "stdout",
     "output_type": "stream",
     "text": [
      "Overall efficiency 0.45198\n",
      "Heat transfer to boiler 34.571 MW\n",
      "Power at turbine shaft 20.742 MW\n",
      "Electrical output of the plant 19.291 MW\n",
      "Maximum possible thermal efficiency 0.60817\n"
     ]
    }
   ],
   "source": [
    "#QUIZ QUESTION\n",
    "HHV = 19.4 #16.8-18.1 MJ/kg\n",
    "br = 2.2 #kg/s\n",
    "eta_comb = 0.81\n",
    "eta_therm = 0.6\n",
    "eta_gen = 0.93\n",
    "th = 273.15 + 475\n",
    "tc = 273.15 + 20\n",
    "P_comb = HHV*br\n",
    "eta = eta_comb*eta_therm*eta_gen\n",
    "print(f'Overall efficiency {eta:.5g}') #0.235\n",
    "print(f'Heat transfer to boiler {P_comb*eta_comb:.5g} MW')\n",
    "print(f'Power at turbine shaft {P_comb*eta_comb*eta_therm:.5g} MW')\n",
    "P = P_comb*eta\n",
    "eta_therm_max = 1 - tc/th\n",
    "print(f'Electrical output of the plant {P:.5g} MW') #19.6MW\n",
    "print(f'Maximum possible thermal efficiency {eta_therm_max:.5g}') #0.6"
   ]
  },
  {
   "cell_type": "markdown",
   "metadata": {},
   "source": [
    "# Week 3 - Bioenergy From Wastewater\n",
    "#### Tutorial 3.1\n",
    "How much methane gas can be generated through complete anaerobic degradation of 1kg of COD at WWTP?"
   ]
  },
  {
   "cell_type": "markdown",
   "metadata": {},
   "source": [
    "Step 1: Calculation of COD equivalence of $CH_4$\n",
    "\n",
    "$CH_4 + 2O_2 \\Rightarrow CO_2 + 2H_2O$"
   ]
  },
  {
   "cell_type": "code",
   "execution_count": 53,
   "metadata": {},
   "outputs": [
    {
     "name": "stdout",
     "output_type": "stream",
     "text": [
      "Molecular weight of CH4 16.042 g\n",
      "Molecular weight of 2O2 64 g\n",
      "Ratio of mass of CH4 to 2O2 0.25066\n",
      "Mass of CH4 for 1kg of COD: 0.25066\n",
      "Ideal volume at \"standard\" pressure (1 atm) and temperature (0°C) 22.414 L\n",
      "Volume of CH4 per 1kg of COD 0.35022 m^3\n"
     ]
    }
   ],
   "source": [
    "C_mw = 12.01\n",
    "H_mw = 1.008\n",
    "O_mw = 16\n",
    "CH4_mw = C_mw + H_mw*4\n",
    "TwoO2_mw = 2*O_mw*2\n",
    "print(f'Molecular weight of CH4 {CH4_mw:.5g} g')\n",
    "print(f'Molecular weight of 2O2 {TwoO2_mw:.5g} g')\n",
    "r = CH4_mw/TwoO2_mw\n",
    "print(f'Ratio of mass of CH4 to 2O2 {r:.5g}')\n",
    "m = 1 * r #kg\n",
    "print(f'Mass of CH4 for 1kg of COD: {m:.5g}')\n",
    "R = 0.082057366080960 #L*atm/K/mol\n",
    "T = 273.15 + 0 # \"standard\" temperature\n",
    "V_ideal = R*T\n",
    "print(f'Ideal volume at \"standard\" pressure (1 atm) and temperature (0°C) {V_ideal:.5} L')\n",
    "V = V_ideal*1000*m/1000/CH4_mw #m^3\n",
    "print(f'Volume of CH4 per 1kg of COD {V:.5g} m^3') \n",
    "#I would prefer to usee mass not volume as a measure of CH4 but..."
   ]
  },
  {
   "cell_type": "markdown",
   "metadata": {},
   "source": [
    "#### Tutorial 3.2\n",
    "A wastewater treatment plant treats 6MLD that has an influent BOD of 200mg/L and suspended solids of 180mg/L. The primary clarifier removes 60% of the solids and 30% of the BOD. The aeration basin of the activated sludge process removes 95% of the BOD it receives, produces and effluent with a suspended solids concentration of 20mg/L, and a yield of 500g solids per kg of BOD removed. How much primary and secondary sludge (in solid form) is produces by the system?"
   ]
  },
  {
   "cell_type": "code",
   "execution_count": 54,
   "metadata": {},
   "outputs": [
    {
     "name": "stdout",
     "output_type": "stream",
     "text": [
      "Primary solids removal 648.0 kg/D\n",
      "Seconday solids removal 711 kg/D\n"
     ]
    }
   ],
   "source": [
    "Qin = 6 # ML/D\n",
    "SSin = 180*Qin #kg/D\n",
    "BODin = 200*Qin #kg/D\n",
    "PC_SS_removal_rate = 0.6\n",
    "PC_SS_removal = SSin*PC_SS_removal_rate #kg/D\n",
    "print(f'Primary solids removal {PC_SS_removal:.5} kg/D')\n",
    "PC_BOD_removal_rate = 0.3\n",
    "PC_BOD_removal = BODin*PC_BOD_removal_rate #kg/D\n",
    "PC_SS_out = SSin*(1-PC_SS_removal_rate)\n",
    "PC_BOD_out = BODin*(1-PC_BOD_removal_rate)\n",
    "AB_BOD_removal_rate = 0.95\n",
    "AB_SS_generation_rate = 0.5 #kg/kgBOD\n",
    "AB_BOD_removal = PC_BOD_out*AB_BOD_removal_rate #kg/D\n",
    "AB_SS_generation = AB_BOD_removal*AB_SS_generation_rate\n",
    "AB_SS_eff = Qin*20 #kg/D\n",
    "AB_SS_removal = PC_SS_out + AB_SS_generation - AB_SS_eff\n",
    "print(f'Seconday solids removal {AB_SS_removal:.5g} kg/D')"
   ]
  },
  {
   "cell_type": "markdown",
   "metadata": {},
   "source": [
    "#### Tutorial 3.3\n",
    "1/3 of the solid matter in the sample is composed of fixed solids with a specific gravity of 2.5 and 2/3 is composed of volatile solids with a specific gravity of 1.0, the specific gravity of total solids would be?"
   ]
  },
  {
   "cell_type": "code",
   "execution_count": 55,
   "metadata": {},
   "outputs": [
    {
     "name": "stdout",
     "output_type": "stream",
     "text": [
      "Specific gravity of the total solids 1.25 specific gravity\n"
     ]
    }
   ],
   "source": [
    "Vfs = 1/3 #assume kg\n",
    "Sfs = 2.5 #kg/m^3 per kg/m^3 water\n",
    "Vvs = 2/3 #kg\n",
    "Svs = 1 #kg/m^3 per kg/m^3 water\n",
    "Inv_Sts = Vfs/Sfs + Vvs/Svs #density water per density solid\n",
    "Sts = 1/Inv_Sts #density solid per density water\n",
    "print(f'Specific gravity of the total solids {Sts:.5g} specific gravity')"
   ]
  },
  {
   "cell_type": "markdown",
   "metadata": {},
   "source": [
    "If a sludge sample contains 90% water and the specific gravity of the water is taken to be 1.0, the specific gravity of the sludge is?"
   ]
  },
  {
   "cell_type": "code",
   "execution_count": 56,
   "metadata": {},
   "outputs": [
    {
     "name": "stdout",
     "output_type": "stream",
     "text": [
      "Specific gravity of sludge 1.0204 specific gravity\n"
     ]
    }
   ],
   "source": [
    "pc_water = 0.9 #by mass\n",
    "Sw = 1\n",
    "Inv_Ssl = (1-pc_water)/Sts + pc_water/Sw\n",
    "Ssl = 1/Inv_Ssl\n",
    "print(f'Specific gravity of sludge {Ssl:.5g} specific gravity')"
   ]
  },
  {
   "cell_type": "markdown",
   "metadata": {},
   "source": [
    "The volume of sludge can be computed by:"
   ]
  },
  {
   "cell_type": "code",
   "execution_count": 57,
   "metadata": {},
   "outputs": [
    {
     "name": "stdout",
     "output_type": "stream",
     "text": [
      "Volume of sludge 0.0098001 m^3\n",
      "Back checking the specific gravity 1.0204\n"
     ]
    }
   ],
   "source": [
    "def volume_sludge(Ms, rho_w, Ssl, Pc_s):\n",
    "    return Ms/(rho_w*Ssl*Pc_s)\n",
    "Ms = 1 #kg\n",
    "rho_w = 1000 #kg/m^3\n",
    "Ssl = 1.0204\n",
    "Pc_s = 0.1\n",
    "V = volume_sludge(Ms, rho_w, Ssl, Pc_s)\n",
    "print(f'Volume of sludge {V:.5g} m^3')\n",
    "Mw = 9 #kg\n",
    "Mt = Ms + Mw\n",
    "Ssl_check = Mt/V/rho_w\n",
    "print(f'Back checking the specific gravity {Ssl_check:.5g}')\n",
    "assert(Ssl == Ssl_check), \"problem with calculation\""
   ]
  },
  {
   "cell_type": "markdown",
   "metadata": {},
   "source": [
    "#### Tutorial 3.3\n",
    "Find the percent reduction in volatile solids based on a 1kg sample of sludge."
   ]
  },
  {
   "cell_type": "code",
   "execution_count": 58,
   "metadata": {},
   "outputs": [
    {
     "name": "stdout",
     "output_type": "stream",
     "text": [
      "Reduction in VSS 50 %\n"
     ]
    }
   ],
   "source": [
    "def pc_VSS_reduction(VSS_in_pc, VSS_out_pc):\n",
    "    return (VSS_in_pc - VSS_out_pc)/(VSS_in_pc - (VSS_in_pc*VSS_out_pc))*100\n",
    "VSS_in_pc = 0.8\n",
    "VSS_out_pc = 2/3 #only works if out_pc is less than in_pc\n",
    "R_VSS = pc_VSS_reduction(VSS_in_pc, VSS_out_pc)\n",
    "print(f'Reduction in VSS {R_VSS:.5g} %')"
   ]
  },
  {
   "cell_type": "code",
   "execution_count": 59,
   "metadata": {},
   "outputs": [
    {
     "name": "stdout",
     "output_type": "stream",
     "text": [
      "Reduction in VSS 66.667 %\n"
     ]
    }
   ],
   "source": [
    "#QUIZ QUESTION\n",
    "def pc_VSS_reduction(VSS_in_pc, VSS_out_pc):\n",
    "    return (VSS_in_pc - VSS_out_pc)/(VSS_in_pc - (VSS_in_pc*VSS_out_pc))*100\n",
    "VSS_in_pc = 0.75\n",
    "VSS_out_pc = 1/2 #only works if out_pc is less than in_pc\n",
    "R_VSS = pc_VSS_reduction(VSS_in_pc, VSS_out_pc)\n",
    "print(f'Reduction in VSS {R_VSS:.5g} %')"
   ]
  },
  {
   "cell_type": "markdown",
   "metadata": {},
   "source": [
    "Calculate the percent reduction in total solids."
   ]
  },
  {
   "cell_type": "code",
   "execution_count": 60,
   "metadata": {},
   "outputs": [
    {
     "name": "stdout",
     "output_type": "stream",
     "text": [
      "Reduction in FSS 60 %\n"
     ]
    }
   ],
   "source": [
    "def pc_TSS_reduction(FSS_in_pc, FSS_out_pc):\n",
    "    return (1-(FSS_in_pc/FSS_out_pc))/1*100\n",
    "FSS_in_pc = 0.2\n",
    "FSS_out_pc = 0.5 #only works if out_pc is greater than in_pc\n",
    "R_TSS = pc_TSS_reduction(FSS_in_pc, FSS_out_pc)\n",
    "print(f'Reduction in FSS {R_TSS:.5g} %')"
   ]
  },
  {
   "cell_type": "code",
   "execution_count": 61,
   "metadata": {},
   "outputs": [
    {
     "name": "stdout",
     "output_type": "stream",
     "text": [
      "Reduction in FSS 50 %\n"
     ]
    }
   ],
   "source": [
    "#QUIZ QUESTION\n",
    "def pc_TSS_reduction(FSS_in_pc, FSS_out_pc):\n",
    "    return (1-(FSS_in_pc/FSS_out_pc))/1*100\n",
    "FSS_in_pc = 0.25\n",
    "FSS_out_pc = 0.5 #only works if out_pc is greater than in_pc\n",
    "R_TSS = pc_TSS_reduction(FSS_in_pc, FSS_out_pc)\n",
    "print(f'Reduction in FSS {R_TSS:.5g} %')"
   ]
  },
  {
   "cell_type": "markdown",
   "metadata": {},
   "source": [
    "The end products of anaerobic digestion are methane gas and carbon dioxide. The quantity of methane gas can be calculated as folllows:"
   ]
  },
  {
   "cell_type": "code",
   "execution_count": 62,
   "metadata": {},
   "outputs": [],
   "source": [
    "def calc_V_CH4(Cf, S0, S, Q, COD_R, Px): \n",
    "    Cf = 0.4 #0.35 m^3/kg bCOD at standard conditions (1atm and 0°C), 0.4 at 35°C\n",
    "    COD_R = 1.42 #g COD/g VSS\n",
    "    return Cf*((S0-S)*Q - COD_R*Px) #m^3 at standard conditions"
   ]
  },
  {
   "cell_type": "markdown",
   "metadata": {},
   "source": [
    "For a complete-mix high-rate digester without recycle, the mass of biological solids synthesized daily, Px, can be estimated using:"
   ]
  },
  {
   "cell_type": "code",
   "execution_count": 63,
   "metadata": {},
   "outputs": [],
   "source": [
    "def calc_Px(Y, kd, Q, S0, S, SRT):\n",
    "#     Y = 0.05 #g VSS/g bCOD yield coefficient range from 0.05-0.1\n",
    "#     kd = 0.02 # /d endogenous respiration coefficient (or bacterial decay coefficient) range from 0.02-0.04\n",
    "    return Y*Q*(S0-S)/(1+kd*SRT) #kg/d net mass of cell tissue produced"
   ]
  },
  {
   "cell_type": "markdown",
   "metadata": {},
   "source": [
    "#### Tutorial 3.4\n",
    "The sludge is from a primary treatment plant designed to treat 38,000 m^3/d of wastewater. The quantity of dry volatile solids and biodegradable COD (bCOD) removed through a single-stage, complete-mix anaerobic digester is 0.15 kg/m^3 and 0.14 kg/m^3, respectively. Assume that the sludge constains about 95% moisture and has a specific gravity of 1.02. Determine the volumetric loading of the digester, the percent stabilisation and the amout of gas produced per day."
   ]
  },
  {
   "cell_type": "code",
   "execution_count": 64,
   "metadata": {},
   "outputs": [
    {
     "name": "stdout",
     "output_type": "stream",
     "text": [
      "Sludge flowrate 111.76 m^3/d\n",
      "bCOD loading 5320 kg/d\n",
      "Volume required for digester 1117.6 m^3\n",
      "Volumetric loading rate 4.76 kg bCOD/m^3/d\n",
      "Biological solids synthesised per day (volatile solids) 229.17 kg/d\n",
      "Biogas produced 3398.6 kg/d\n",
      "CH4 production 1359.4 m^3/d\n",
      "Biogas production 2091.4 m^3/d\n"
     ]
    }
   ],
   "source": [
    "Q = 38000 #m^3/d\n",
    "VSS_removed = 0.15 #kg/m^3\n",
    "COD_removed = 0.14 #kg/m^3 #COD removed\n",
    "pc_w = 0.95\n",
    "Ssl = 1.02\n",
    "SRT = 10 #at 35°C\n",
    "E = 0.7 #efficiency of wastes conversion (S0-S)\n",
    "Y = 0.08 #kg VSS/kg bCOD\n",
    "kd = 0.03 #/d\n",
    "pc_methane = 0.65 #percent CH4 of digester gas by volume\n",
    "Qsl = volume_sludge(Q*VSS_removed,1000, Ssl,1-pc_w)\n",
    "print(f'Sludge flowrate {Qsl:.5g} m^3/d')\n",
    "QCOD = Q*COD_removed\n",
    "print(f'bCOD loading {QCOD:.5g} kg/d')\n",
    "V_digester = Qsl*SRT\n",
    "print(f'Volume required for digester {V_digester:.5g} m^3')\n",
    "VLR = QCOD/V_digester\n",
    "print(f'Volumetric loading rate {VLR:.5g} kg bCOD/m^3/d')\n",
    "Px = Y*QCOD*E/(1+kd*SRT)\n",
    "print(f'Biological solids synthesised per day (volatile solids) {Px:.5g} kg/d')\n",
    "R_BG = QCOD*E-1.42*Px\n",
    "print(f'Biogas produced {R_BG:.5g} kg/d')\n",
    "Q_CH4 = R_BG*0.4\n",
    "print(f'CH4 production {Q_CH4:.5g} m^3/d')\n",
    "Q_BG = Q_CH4/pc_methane\n",
    "print(f'Biogas production {Q_BG:.5g} m^3/d')"
   ]
  },
  {
   "cell_type": "markdown",
   "metadata": {},
   "source": [
    "# Week 4 - Hydropower\n",
    "#### Tutorial 4.1\n",
    "Show that the shape of a waterfall is given by $y = \\frac{gx^2}{2u^2}$, where $u$ is the horizontal component of velocity, $g$ is the acceleration due to gravity.\n",
    "\n",
    "Horizontal distance $x = ut$\n",
    "\n",
    "Horizontal velocity $Vx = u$\n",
    "\n",
    "Vertical distance  $h = \\frac{1}{2}gt^2$\n",
    "\n",
    "Vertical velocity $Vy = gt$"
   ]
  },
  {
   "cell_type": "code",
   "execution_count": 65,
   "metadata": {},
   "outputs": [
    {
     "name": "stdout",
     "output_type": "stream",
     "text": [
      "x/u\n",
      "Eq(3, 0.5*g*x**2/u**2)\n",
      "Eq(y, -0.5*g*x**2/u**2)\n"
     ]
    }
   ],
   "source": [
    "from sympy import *\n",
    "x, y, Vx, Vy, g, t, u = symbols('x y Vx Vy g t u')\n",
    "eX = Eq(x, u*t)\n",
    "eVx = Eq(Vx, u)\n",
    "eh = Eq(h, 0.5*g*t**2)\n",
    "eVh = Eq(Vy, g*t)\n",
    "eT1 = solve(eX, t)\n",
    "print(eT1[0])\n",
    "eh = eh.subs(t, eT1[0])\n",
    "print(eh)\n",
    "ey = simplify(eh.subs(h, -y))\n",
    "print(ey)"
   ]
  },
  {
   "cell_type": "markdown",
   "metadata": {},
   "source": [
    "#### Tutorial 4.2\n",
    "Estimate the power output of a dam with a head of 50m and a volume flowrate of 20m^3/s. Assume $\\eta = 0.9, \\rho = 1000 kg/m^3, g = 10 m/s^2$."
   ]
  },
  {
   "cell_type": "code",
   "execution_count": 66,
   "metadata": {},
   "outputs": [
    {
     "name": "stdout",
     "output_type": "stream",
     "text": [
      "Power 9e+06 W\n"
     ]
    }
   ],
   "source": [
    "H = 50 #m\n",
    "Q = 20 #m^3/s\n",
    "eta = 0.9\n",
    "rho = 1000 #kg/m^3\n",
    "g = 10 #m/s^2\n",
    "P = eta*rho*g*H*Q\n",
    "print(f'Power {P:.5g} W') #9MW"
   ]
  },
  {
   "cell_type": "markdown",
   "metadata": {},
   "source": [
    "#### Tutorial 4.3\n",
    "Estimate the power output of A ROR (run-of-river) with a head of 1m and a volume flow rate of $1000m^3/s$. Assume $\\eta = 0.9, \\rho = 1 g/cm^3, g = 10m/s^2$."
   ]
  },
  {
   "cell_type": "code",
   "execution_count": 67,
   "metadata": {},
   "outputs": [
    {
     "name": "stdout",
     "output_type": "stream",
     "text": [
      "Power 9e+06 W\n"
     ]
    }
   ],
   "source": [
    "H = 1 #m\n",
    "Q = 1000 #m^3/s\n",
    "eta = 0.9\n",
    "rho = 1 #g/cm^3\n",
    "rho = rho * 1000 #kg/m^3 1 kg / 1e3 g, 1e2 cm / 1 m ^3  = 1e6/1e3 = 1e3\n",
    "g = 10 #m/s^2\n",
    "P = eta*rho*g*H*Q\n",
    "print(f'Power {P:.5g} W') #9MW"
   ]
  },
  {
   "cell_type": "markdown",
   "metadata": {},
   "source": [
    "#### Tutorial 4.4\n",
    "A sharp-crested rectangular weir $0.75m$ high and $1.5m$ long is used for discharging water from a tank under a head of $0.5m$. Estimate the flow."
   ]
  },
  {
   "cell_type": "code",
   "execution_count": 68,
   "metadata": {},
   "outputs": [
    {
     "name": "stdout",
     "output_type": "stream",
     "text": [
      "Coefficient 0.65733\n",
      "Flow over weir 1.0294 m^3/s\n"
     ]
    }
   ],
   "source": [
    "import math\n",
    "def flow_over_weir(Cd, g, B, H):\n",
    "    return 2/3*Cd*(2*g)**(1/2)*B*H**(3/2)\n",
    "def calc_Cd(H, P):\n",
    "    return 0.602+0.083*H/P\n",
    "P = 0.75 #m\n",
    "H = 0.5 #m\n",
    "B = 1.5 #m\n",
    "Cd = calc_Cd(H,P)\n",
    "print(f'Coefficient {Cd:.5g}')\n",
    "g = 9.81 #m/s^2\n",
    "Q = flow_over_weir(Cd, g, B, H) #m^3/s\n",
    "print(f'Flow over weir {Q:.5g} m^3/s') #1.034 m^3/s"
   ]
  },
  {
   "cell_type": "markdown",
   "metadata": {},
   "source": [
    "#### Tutorial 4.5\n",
    "For a head of water h and a cross-sectional area A of the water jet, show that the maximum power Pm from a Pelton turbine can be written as Pm ∝ Ah3/2. Find the value of the constant of proportionality when Pm is in kW, A is in m2, and h is in m."
   ]
  },
  {
   "cell_type": "code",
   "execution_count": 69,
   "metadata": {},
   "outputs": [
    {
     "name": "stdout",
     "output_type": "stream",
     "text": [
      "Eq(Pmax, 0.5*Q*rho*u**2)\n",
      "Eq(Pmax, 500.0*Q*u**2)\n",
      "Eq(Pmax, 500.0*A*u**3)\n",
      "Eq(Pmax, 1414.2135623731*A*(g*h)**1.5)\n",
      "Eq(Pmax, 43452.8742662669*A*h**1.5)\n",
      "Eq(Pmax, A*h**1.5*k)\n",
      "43452.8742662669\n",
      "Eq(A*h**1.5*k, 43452.8742662669*A*h**1.5)\n",
      "43452.8742662669\n"
     ]
    }
   ],
   "source": [
    "from sympy import *\n",
    "Pmax, rho, Q, g, u, k, A, h = var('Pmax rho Q g u k A h');\n",
    "Pmax1 = Eq(Pmax, 1/2*rho*Q*u**2)\n",
    "print(Pmax1)\n",
    "Pmax1 = Pmax1.subs(rho, 1000)\n",
    "print(Pmax1)\n",
    "Q1 = Eq(Q, u*A)\n",
    "Pmax1 = Pmax1.subs(Q, u*A)\n",
    "print(Pmax1)\n",
    "Pmax1 = Pmax1.subs(u**3, (2*g*h)**(3/2))\n",
    "print(Pmax1)\n",
    "Pmax1 = Pmax1.subs(g, 9.81)\n",
    "print(Pmax1)\n",
    "Pmax2 = Eq(Pmax, k*A*h**(3/2))\n",
    "print(Pmax2)\n",
    "k1 = Eq(Pmax1.rhs, Pmax2.rhs)\n",
    "k2 = solve(k1, k)\n",
    "print(k2[0])\n",
    "k3 = Pmax1.subs(Pmax, Pmax2.rhs)\n",
    "print(k3)\n",
    "k4 = solve(k3, k)\n",
    "print(k4[0])"
   ]
  },
  {
   "cell_type": "markdown",
   "metadata": {},
   "source": [
    "#### Tutorial 4.7\n",
    "Estimate the rainfall requirement from Three Gorges dam. The catchment area $A = 10^6 km^2$, the head $h = 100 m$ and the continuous output power $P = 10^4 MW$. Assume $\\eta=0.9, \\rho=1000 kg/m^3, g=9.81 m/s^2$."
   ]
  },
  {
   "cell_type": "code",
   "execution_count": 70,
   "metadata": {},
   "outputs": [
    {
     "name": "stdout",
     "output_type": "stream",
     "text": [
      "Rainfall 357.19 mm/year\n"
     ]
    }
   ],
   "source": [
    "A = 1e6 #km^2\n",
    "A = A*1e6 #m^2 \n",
    "h = 100 #m\n",
    "P = 1e4 #MW\n",
    "P = P * 1e6 #W\n",
    "eta = 0.9\n",
    "rho = 1000 #kg/m^3\n",
    "g = 9.81 #m/s\n",
    "Q = P/(eta*rho*g*h)\n",
    "V = Q/A\n",
    "V = V*1000*60*60*24*365 #mm/year\n",
    "print(f'Rainfall {V:.5g} mm/year')"
   ]
  },
  {
   "cell_type": "markdown",
   "metadata": {},
   "source": [
    "#### Tutorial 4.8\n",
    "The average annual rainfall over Asia is $14100 km^3$ and its average altitude is $950 m$. Estimate the theoretical hydropower potential. Assume $\\rho = 1000 kg/m^3, g = 9.81 m/s^2$."
   ]
  },
  {
   "cell_type": "code",
   "execution_count": 71,
   "metadata": {},
   "outputs": [
    {
     "name": "stdout",
     "output_type": "stream",
     "text": [
      "Theoretical hydropower potential 1.314e+20 J/year\n"
     ]
    }
   ],
   "source": [
    "rho = 1000 #kg/m^3\n",
    "V = 14100 #km^3/year\n",
    "V = V*1e9\n",
    "h = 950 #m\n",
    "g = 9.81 #m/s^2\n",
    "eta = 1\n",
    "W = eta * rho * g * h * V\n",
    "print(f'Theoretical hydropower potential {W:.5g} J/year')"
   ]
  },
  {
   "cell_type": "markdown",
   "metadata": {},
   "source": [
    "#### Tutorial 4.9\n",
    "Suppose that a fixed revenue A is obtained each year. The present value $V_p$ of the revenue obtained over $N$ years is given by:\n",
    "\n",
    "$$Vp = A\\frac{1-(1+R)^{-n}}{R}$$\n",
    "\n",
    "Where $R$ is the discount rate."
   ]
  },
  {
   "cell_type": "code",
   "execution_count": 72,
   "metadata": {},
   "outputs": [
    {
     "name": "stdout",
     "output_type": "stream",
     "text": [
      "Net present value of reveneue obtained over 30 years, $1537245\n"
     ]
    }
   ],
   "source": [
    "R = 0.05 #decimal percent\n",
    "N = 30 #years\n",
    "A = 100000 #$\n",
    "Vp = A*(1-(1+R)**(-N))/R\n",
    "print(f'Net present value of reveneue obtained over {N} years, ${Vp:.0f}')"
   ]
  },
  {
   "cell_type": "markdown",
   "metadata": {},
   "source": [
    "# Week 5 - Ocean Power\n",
    "#### Tutorial 5.1\n",
    "Compare the magnitude of the effect of the Sun on the tides (a) when the Sun and Moon are both on the same side of the Earth, and (b) when the Sun and the Moon are on opposite sides of the Earth."
   ]
  },
  {
   "cell_type": "code",
   "execution_count": 73,
   "metadata": {},
   "outputs": [
    {
     "name": "stdout",
     "output_type": "stream",
     "text": [
      "The effect of the sun is +/- 43.942% of a normal high tide\n"
     ]
    }
   ],
   "source": [
    "mSun = 2e30 #kg\n",
    "mMoon = 7.4e22 #kg\n",
    "dSun = 1.5e11 #m\n",
    "dMoon = 3.8e8 #m\n",
    "lam = mSun/mMoon*(dMoon/dSun)**3*100\n",
    "print(f'The effect of the sun is +/- {lam:.5}% of a normal high tide') #approx. 44%"
   ]
  },
  {
   "cell_type": "markdown",
   "metadata": {},
   "source": [
    "#### Tutorial 5.2\n",
    "Show that the speed of a titdal bulge on the equator in the Atlantic Ocean (depth approx. 4000m) is less than the speed due to the Earth's rotation of the seabed."
   ]
  },
  {
   "cell_type": "code",
   "execution_count": 74,
   "metadata": {},
   "outputs": [
    {
     "name": "stdout",
     "output_type": "stream",
     "text": [
      "Velocity of Earth's rotation at the equator 463.24 m/s\n",
      "Atlantic wave speed 198.09 m/s\n"
     ]
    }
   ],
   "source": [
    "d = 4000 #m\n",
    "r = 6370 #km\n",
    "r = r*1000 #m\n",
    "g = 9.81 #m/s^2\n",
    "p = 2*math.pi*r\n",
    "v = p/24/60/60\n",
    "print(f\"Velocity of Earth's rotation at the equator {v:.5g} m/s\") #463 m/s\n",
    "C = (g*d)**0.5\n",
    "print(f'Atlantic wave speed {C:.5g} m/s') #198 m/s"
   ]
  },
  {
   "cell_type": "markdown",
   "metadata": {},
   "source": [
    "#### Tutorial 5.3\n",
    "The Atlantic Ocean has a width of 4000km and an average depth of about 4000m. Show that a tidal resonance enhancement of the tides is expected."
   ]
  },
  {
   "cell_type": "code",
   "execution_count": 75,
   "metadata": {},
   "outputs": [
    {
     "name": "stdout",
     "output_type": "stream",
     "text": [
      "Tidal frequency 2.2222e-05 /s\n",
      "Atlantic resonant frequency 2.4761e-05 /s\n",
      "Difference between Atlantic resonance and tital resonance 11.426%\n",
      "Therefore resonance is expected\n"
     ]
    }
   ],
   "source": [
    "L = 4000 #km\n",
    "L = L*1000 #m\n",
    "lam = 2*L\n",
    "d = 4000 #m\n",
    "g = 9.81 #m/s^2\n",
    "C = (g*d)**0.5 #m/s\n",
    "fb = 1/(12.5*60*60) #/s\n",
    "fa = C/lam\n",
    "print(f'Tidal frequency {fb:.5g} /s') #2.2e-5\n",
    "print(f'Atlantic resonant frequency {fa:.5g} /s') #2.5e-5\n",
    "diff = (fa/fb-1)*100\n",
    "print(f'Difference between Atlantic resonance and tital resonance {diff:.5g}%')\n",
    "print(f'Therefore resonance is expected')"
   ]
  },
  {
   "cell_type": "markdown",
   "metadata": {},
   "source": [
    "#### Tutorial 5.4\n",
    "Estimate the average power output of a tidal basin with a tidal range of 12m and tidal basin area of 520 km^2 when operating during the ebb tide."
   ]
  },
  {
   "cell_type": "code",
   "execution_count": 76,
   "metadata": {},
   "outputs": [
    {
     "name": "stdout",
     "output_type": "stream",
     "text": [
      "Tidal period 45000 s\n",
      "Average power 4.16e+09 W\n"
     ]
    }
   ],
   "source": [
    "h = 12 #m\n",
    "A = 520 #km^2\n",
    "A = A*1e6 #m^2\n",
    "g = 10 #m/s^2\n",
    "rho = 1000 #kg/m^3\n",
    "T = 12.5 #h\n",
    "T = T*60*60 #s\n",
    "print(f'Tidal period {T:.5g} s')\n",
    "Pavg = rho*g*A*h**2/(4*T)\n",
    "print(f'Average power {Pavg:.5g} W') #4.2 GW"
   ]
  },
  {
   "cell_type": "markdown",
   "metadata": {},
   "source": [
    "#### Tutorial 5.5\n",
    "The Pentland Firth is a channel 10.2 km wide with an average depth of 58m. The maximum flow speed is 3.4 m/^2 and the amplitude of the tidal head driving this flow is 1.2m. Calculate the maximum average power that could be generated by placing turbines in the channel."
   ]
  },
  {
   "cell_type": "code",
   "execution_count": 77,
   "metadata": {},
   "outputs": [
    {
     "name": "stdout",
     "output_type": "stream",
     "text": [
      "Maximum power 5.2093e+09 W\n"
     ]
    }
   ],
   "source": [
    "W = 10.2 #km\n",
    "W = W * 1000 #m\n",
    "D = 58 #m\n",
    "A = W*D #m^2\n",
    "a = 1.2 #m\n",
    "Vmax = 3.4 #m/s\n",
    "Qmax = Vmax * A\n",
    "g = 9.81 #m/s^2\n",
    "rho = 1000 #kg/m^3\n",
    "gamma = 0.22\n",
    "Pmax = gamma*rho*g*a*Qmax\n",
    "print(f'Maximum power {Pmax:.5g} W') #5.2GW"
   ]
  },
  {
   "cell_type": "markdown",
   "metadata": {},
   "source": [
    "#### Tutorial 5.6\n",
    "Estimate the power per unit width of wave-front for a wave amplitude a = 1m and a wavelength of 100m. Also calculate the speed of the wave."
   ]
  },
  {
   "cell_type": "code",
   "execution_count": 78,
   "metadata": {},
   "outputs": [
    {
     "name": "stdout",
     "output_type": "stream",
     "text": [
      "Wave speed 12.616 m/s\n",
      "Power 31539 W/m\n"
     ]
    }
   ],
   "source": [
    "a = 1 #m\n",
    "lam = 100 #m\n",
    "g = 10 #m/s^2\n",
    "rho = 1000 #kg/m^3\n",
    "c = (g*lam/(2*math.pi))**0.5 #m/s\n",
    "print(f'Wave speed {c:.5g} m/s')\n",
    "P = 1/4*rho*g*a**2*c\n",
    "print(f'Power {P:.5g} W/m') #31.5 kW"
   ]
  },
  {
   "cell_type": "markdown",
   "metadata": {},
   "source": [
    "#### Tutorial 5.7\n",
    "An Oscillating Water Column (OWC) has an air duct of corss-sectional area 1m^2 and a water duct of corss-sectional area 10m^2. If the average vertical speed of the water surface is 1m/s calculate the average speed of the air."
   ]
  },
  {
   "cell_type": "code",
   "execution_count": 79,
   "metadata": {},
   "outputs": [
    {
     "name": "stdout",
     "output_type": "stream",
     "text": [
      "Average speed of the air 10 m/s\n"
     ]
    }
   ],
   "source": [
    "rho = 1000 #kg/m^3\n",
    "uw = 1 #m/s\n",
    "Aa = 1 #m^2\n",
    "Aw = 10 #m^2\n",
    "ua = uw * Aw/Aa\n",
    "print(f'Average speed of the air {ua:.5g} m/s')"
   ]
  },
  {
   "cell_type": "markdown",
   "metadata": {},
   "source": [
    "# Week 6 - Geothermal Energy\n",
    "#### Tutorial 6.1\n",
    "Calculate the ideal Carnot efficiency of a geothermal generating station if the temperature of the geothermal fluid is 210 °C and the temperature of teh cold reservoir is 85 °C."
   ]
  },
  {
   "cell_type": "code",
   "execution_count": 80,
   "metadata": {},
   "outputs": [
    {
     "name": "stdout",
     "output_type": "stream",
     "text": [
      "Ideal Carnot efficiency 25.872%\n"
     ]
    }
   ],
   "source": [
    "tc = 273.15 + 85\n",
    "th = 273.15 + 210\n",
    "eta = (1 - tc/th) * 100 #%\n",
    "print(f'Ideal Carnot efficiency {eta:.5g}%')"
   ]
  },
  {
   "cell_type": "markdown",
   "metadata": {},
   "source": [
    "#### Tutorial 6.2\n",
    "Calculate the total geothermal heat flow through the surface of the earth. The heat flow from the earth's interior averages 0.087 W/m^2 and the mean radius of the earth is 6371 km."
   ]
  },
  {
   "cell_type": "code",
   "execution_count": 81,
   "metadata": {},
   "outputs": [
    {
     "name": "stdout",
     "output_type": "stream",
     "text": [
      "Thermal flux through surface of the Earth 4.4376e+13 W\n"
     ]
    }
   ],
   "source": [
    "r = 6371 #km\n",
    "r = r*1000 #m\n",
    "A = 4*math.pi*r**2\n",
    "hflux = 0.087\n",
    "W = hflux*A\n",
    "print(f'Thermal flux through surface of the Earth {W:.5g} W') #4.4e13 W"
   ]
  },
  {
   "cell_type": "markdown",
   "metadata": {},
   "source": [
    "#### Tutorial 6.3\n",
    "A sandstone aquifer at $70°C$ is $20m$ thick and $100m$ wide. The density, specifc heat, porosity, and hydralic conductivity are $2.3x10^3 kg/m^3$, $1000 J/kg/K$, $0.02$, and $2x10^-5 m/s$. Estimate the volume flow rate needed to generate a power output of 1MW. Assuming the water at inlet is at $10°C, \\rho_w = 10^3 kg/m^3, c_w = 4000 J/kg/K$."
   ]
  },
  {
   "cell_type": "code",
   "execution_count": 82,
   "metadata": {},
   "outputs": [
    {
     "name": "stdout",
     "output_type": "stream",
     "text": [
      "Flow 0.0041667 m^3/s\n"
     ]
    }
   ],
   "source": [
    "Ts = 273.15+70\n",
    "ts = 20 #m\n",
    "Ws = 100 #m\n",
    "rhos = 2.3e3 #kg/m^3\n",
    "cs = 1000 #J/kg/K\n",
    "p = 0.02\n",
    "k = 2e-5 #m/s\n",
    "Tw = 273.15+10\n",
    "rhow = 1e3 #kg/m^3\n",
    "cw = 4000 #J/kg/K\n",
    "P = 1e6\n",
    "Q = P/(rhow*cw*(Ts-Tw))\n",
    "print(f'Flow {Q:.5g} m^3/s') #4e-3 m/s"
   ]
  },
  {
   "cell_type": "markdown",
   "metadata": {},
   "source": [
    "#### Tutorial 6.4\n",
    "A sandstone aquifer at $70°C$ is $20m$ thick and $100m$ wide. The density, specifc heat, porosity, and hydralic conductivity are $2.3x10^3 kg/m^3$, $1000 J/kg/K$, $0.02$, and $2x10^-5 m/s$. A power output of $1MW$ is generated. The separation distance between two boreholes is 1km. Estimate the lifetime of the system assuming the water at the inlet is at $10°C, \\rho_w = 10^3 kg/m^3, c_w = 4000 J/kg/K$."
   ]
  },
  {
   "cell_type": "code",
   "execution_count": 83,
   "metadata": {},
   "outputs": [
    {
     "name": "stdout",
     "output_type": "stream",
     "text": [
      "System lifetime or time taken for the cold front to reach the outlet borehole 8.5769 years\n"
     ]
    }
   ],
   "source": [
    "Ts = 273.15+70\n",
    "ts = 20 #m\n",
    "Ws = 100 #m\n",
    "A = ts*Ws #m^2\n",
    "L = 1 #km\n",
    "L *= 1000 #m\n",
    "rhos = 2.3e3 #kg/m^3\n",
    "cs = 1000 #J/kg/K\n",
    "p = 0.02\n",
    "k = 2e-5 #m/s\n",
    "Tw = 273.15+10\n",
    "rhow = 1e3 #kg/m^3\n",
    "cw = 4000 #J/kg/K\n",
    "P = 1e6\n",
    "Q = P/(rhow*cw*(Ts-Tw))\n",
    "Q *= 60*60*24*365 #m^3/year\n",
    "t_life = (1-p)*rhos*cs*A*L/(rhow*cw*Q)\n",
    "print(f'System lifetime or time taken for the cold front to reach the outlet borehole {t_life:.5} years') \n",
    "#9 years with Q as 4e-3 m^3/s"
   ]
  },
  {
   "cell_type": "markdown",
   "metadata": {},
   "source": [
    "#### Tutorial 6.5\n",
    "A sandstone aquifer at $70°C$ is $20m$ thick and $100m$ wide. The density, specifc heat, porosity, and hydralic conductivity are $2.3x10^3 kg/m^3$, $1000 J/kg/K$, $0.02$, and $2x10^-5 m/s$. A power output of $1MW$ is generated. Estimate the pressure drop required for a borehole separation of 1km assuming the water at the inlet is at $10°C, \\rho_w = 10^3 kg/m^3, c_w = 4000 J/kg/K$."
   ]
  },
  {
   "cell_type": "code",
   "execution_count": 84,
   "metadata": {},
   "outputs": [
    {
     "name": "stdout",
     "output_type": "stream",
     "text": [
      "Pressure drop 1.0417 bar\n"
     ]
    }
   ],
   "source": [
    "Ts = 273.15+70\n",
    "ts = 20 #m\n",
    "Ws = 100 #m\n",
    "A = ts*Ws #m^2\n",
    "L = 1 #km\n",
    "L *= 1000 #m\n",
    "rhos = 2.3e3 #kg/m^3\n",
    "cs = 1000 #J/kg/K\n",
    "p = 0.02\n",
    "k = 2e-5 #m/s\n",
    "Tw = 273.15+10\n",
    "rhow = 1e3 #kg/m^3\n",
    "cw = 4000 #J/kg/K\n",
    "P = 1e6\n",
    "Q = P/(rhow*cw*(Ts-Tw))\n",
    "dP = Q*L*g*rhow/(k*A)\n",
    "dP /= 1e6 #bar\n",
    "print(f'Pressure drop {dP:.5} bar') #1bar"
   ]
  },
  {
   "cell_type": "markdown",
   "metadata": {},
   "source": [
    "# Week 7 - Wind\n",
    "#### Tutorial 7.1\n",
    "Would you explain the necessary of the yellow line in the train station? Assume that the speed of train is $80km/h$, air density $1.225kg/m^3$, a man is $1.8m$ tall (around $0.6m^2$ surface aream in total). Air speed at the back of themain is close to $0$. Try to calculate the pressure/force and direction generated by the air."
   ]
  },
  {
   "cell_type": "code",
   "execution_count": 85,
   "metadata": {},
   "outputs": [
    {
     "name": "stdout",
     "output_type": "stream",
     "text": [
      "the speed of the train 22.222 m/s\n",
      "the pressure difference is -302.47 Pa\n",
      "the force on the man is -90.741 N\n"
     ]
    }
   ],
   "source": [
    "speed_of_train = 80 #km/h\n",
    "speed_of_train *=1000 / 60 / 60 #m/s\n",
    "print(f'the speed of the train {speed_of_train:.5g} m/s')\n",
    "air_density = 1.225 #kg/m^3\n",
    "man_surface_area = 0.6 #m^2\n",
    "bernoullis_equation = lambda v, rho: -rho * v**2 / 2\n",
    "pressure_difference = bernoullis_equation(speed_of_train, air_density)\n",
    "print(f'the pressure difference is {pressure_difference:.5g} Pa')\n",
    "#force on man\n",
    "force = pressure_difference * 0.6 / 2\n",
    "print(f'the force on the man is {force:.5g} N')"
   ]
  },
  {
   "cell_type": "markdown",
   "metadata": {},
   "source": [
    "#### Tutorial 7.2\n",
    "An induction generator has an induction wire core with $200$ loop ($10cm$ square in shape) and a rotating speed of 2500 rpm, the magnetic field is $0.5T$. Calculate the maximum induction potential of the generator."
   ]
  },
  {
   "cell_type": "code",
   "execution_count": 86,
   "metadata": {},
   "outputs": [
    {
     "name": "stdout",
     "output_type": "stream",
     "text": [
      "the angular velocity is 261.67\n",
      "the maximum induction potential is -261.67 V\n"
     ]
    }
   ],
   "source": [
    "N = 200 #number of loops\n",
    "A = 10*10 #cm^2\n",
    "A /= 1e4 #m^3\n",
    "rpm = 2500\n",
    "MF = 0.5 #the magnetic field is \n",
    "#Calculate the maximum induction potential of the generator\n",
    "w = 2500*2*3.14/60\n",
    "print(f'the angular velocity is {w:.5g}')\n",
    "E = -N*MF*A*w\n",
    "print(f'the maximum induction potential is {E:.5g} V')"
   ]
  },
  {
   "cell_type": "markdown",
   "metadata": {},
   "source": [
    "#### Tutorial 7.3\n",
    "A horizontal axis wind turbine is located at the height of $100m$ with an average wind speed of $10m/s$, the air density at this height is $1.2 kg/m^3$. The generator efficiency is $60\\%$, gearbox efficiency $95\\%$. To generate a power of $1MW$, calculate the length of the blades.\n"
   ]
  },
  {
   "cell_type": "code",
   "execution_count": 87,
   "metadata": {},
   "outputs": [
    {
     "name": "stdout",
     "output_type": "stream",
     "text": [
      "Area 4955.9 m^2\n",
      "Length of the blades 39.728 m\n"
     ]
    }
   ],
   "source": [
    "rho = 1.2\n",
    "V = 10\n",
    "Cp = 0.59\n",
    "Ng = 0.6\n",
    "Nb = 0.95\n",
    "P = 1e6\n",
    "A = 2*P/(rho*Cp*V**3*Ng*Nb) #4956 m^2\n",
    "print(f'Area {A:.5g} m^2')\n",
    "L = (A/3.14)**0.5\n",
    "print(f'Length of the blades {L:.5g} m') #39.7m"
   ]
  },
  {
   "cell_type": "markdown",
   "metadata": {},
   "source": [
    "# Week 8 - Solar\n",
    "#### Tutorial 8.1\n",
    "Mass of deutrium, trituim, helium and neutron reaches 2.0136g, 3.015g, 4.0164g and 1.0087g respectively. \n",
    "$H_1^2 + H_1^3 \\Rightarrow He_2^4 + n^1 +hv$."
   ]
  },
  {
   "cell_type": "code",
   "execution_count": 88,
   "metadata": {},
   "outputs": [
    {
     "name": "stdout",
     "output_type": "stream",
     "text": [
      "Loss of mass 0.018884 u\n",
      "Energy released by single fusion reaction 17.59 MeV\n",
      "Energy released by single fusion reaction 2.8182e-12 J\n",
      "Mass equivalent of energy released 0.018884 u\n",
      "Mass is not conserved, but energy is.\n"
     ]
    }
   ],
   "source": [
    "h21 = 2.01410177811 #u\n",
    "h31 = 3.0160492 #u\n",
    "he42 = 4.002602 #u\n",
    "n1 = 1.00866491588 #u\n",
    "u_to_kg = 1.66053906660e-27\n",
    "Mev_to_J = 1.6021773e-13\n",
    "c = 299792458 #m/s\n",
    "dM = h21 + h31 - he42 - n1\n",
    "print(f'Loss of mass {dM:.5g} u')\n",
    "dE = 17.59 #Mev http://hyperphysics.phy-astr.gsu.edu/hbase/NucEne/fusion.html\n",
    "print(f'Energy released by single fusion reaction {dE:.5g} MeV')\n",
    "dE *= Mev_to_J\n",
    "print(f'Energy released by single fusion reaction {dE:.5g} J')\n",
    "dMeq = dE/c**2\n",
    "dMeq /= u_to_kg\n",
    "print(f'Mass equivalent of energy released {dMeq:.5g} u')\n",
    "print('Mass is not conserved, but energy is.')"
   ]
  },
  {
   "cell_type": "markdown",
   "metadata": {},
   "source": [
    "#### Tutorial 8.2\n",
    "The wavelength range of visible light is from 400-700 nm. Calculate the energy range of visible light."
   ]
  },
  {
   "cell_type": "code",
   "execution_count": 89,
   "metadata": {},
   "outputs": [
    {
     "name": "stdout",
     "output_type": "stream",
     "text": [
      "Lower bound energy of light at 700nm 2.8414e-19 J\n",
      "Lower bound energy of light at 700nm 4.9725e-19 J\n",
      "Lower bound energy of light at 700nm 1.7759 eV\n",
      "Lower bound energy of light at 700nm 3.1078 eV\n"
     ]
    }
   ],
   "source": [
    "lam_lb = 700 #nm\n",
    "lam_ub = 400 #nm\n",
    "lam_lb *= 1e-9 #m\n",
    "lam_ub *= 1e-9 #m\n",
    "h = 6.63e-34 #k^2 kg/s\n",
    "c = 3e8 #m/s\n",
    "w_lb = c/lam_lb\n",
    "w_ub = c/lam_ub\n",
    "E_lb = h*w_lb\n",
    "E_ub = h*w_ub\n",
    "J_to_eV = 1/1.6e-19\n",
    "print(f'Lower bound energy of light at 700nm {E_lb:.5g} J')\n",
    "print(f'Lower bound energy of light at 700nm {E_ub:.5g} J')\n",
    "E_lb *= J_to_eV\n",
    "E_ub *= J_to_eV\n",
    "print(f'Lower bound energy of light at 700nm {E_lb:.5g} eV')\n",
    "print(f'Lower bound energy of light at 700nm {E_ub:.5g} eV')"
   ]
  },
  {
   "cell_type": "markdown",
   "metadata": {},
   "source": [
    "#### Tutorial 8.3\n",
    "The amount of energy required to raise the temperature of $1kg$ of a substance by $1°C$ is named as the Specific Heat Capacity ($C_p$). The boiling point of water is $100°C$ (under $1 atm$). The specifc heat capacity of water is $4.2 kJ/kg/K$. $C_p$ of stream is $2.0 kJ/kg/K$. The vaporisation energy of water is $2.3 kJ/kg$. Calculate the total amount of energy required to increase the temperature of $2kg$ of water from $20°C$ to $80°C$."
   ]
  },
  {
   "cell_type": "code",
   "execution_count": 94,
   "metadata": {},
   "outputs": [
    {
     "name": "stdout",
     "output_type": "stream",
     "text": [
      "Energy required to heat water from 293.15K to 353.15K: 252 kW\n"
     ]
    }
   ],
   "source": [
    "C = 4.2 #kJ/kg/K\n",
    "Cp = 2.0 #kJ/kg/K\n",
    "Cv = 2.3 #kg/kg/K\n",
    "T1 = 273.15 + 20\n",
    "T2 = 273.15 + 80\n",
    "E = (T2-T1)*C\n",
    "print(f'Energy required to heat water from {T1}K to {T2}K: {E:.5g} kW')"
   ]
  },
  {
   "cell_type": "code",
   "execution_count": 98,
   "metadata": {},
   "outputs": [
    {
     "name": "stdout",
     "output_type": "stream",
     "text": [
      "Energy required to turn water into steam 5.272e+06 W\n",
      "Heliostats power 20000 W\n",
      "Time required to convert 2 kg at 293.15K into steam 263.6 s\n"
     ]
    }
   ],
   "source": [
    "#QUIZ QUESTION\n",
    "Cl = 4200 #J/kg/K\n",
    "Cv = 2.3e3 #kJ/kg\n",
    "Cv *= 1e3 #J/kg/K\n",
    "A_helio = 1 #m^2\n",
    "P_helio = 1e4 #W/m^2\n",
    "m = 2 #kg\n",
    "T1 = 273.15 + 20\n",
    "T2 = 273.15 + 100\n",
    "E = (T2-T1)*Cl*m + Cv*m\n",
    "print(f'Energy required to turn water into steam {E:.5g} W')\n",
    "P_helio_total = P_helio*2*A_helio\n",
    "print(f'Heliostats power {P_helio_total:.5g} W')\n",
    "print(f'Time required to convert {m} kg at {T1}K into steam {E/P_helio_total:.5g} s')"
   ]
  }
 ],
 "metadata": {
  "kernelspec": {
   "display_name": "Python 3",
   "language": "python",
   "name": "python3"
  },
  "language_info": {
   "codemirror_mode": {
    "name": "ipython",
    "version": 3
   },
   "file_extension": ".py",
   "mimetype": "text/x-python",
   "name": "python",
   "nbconvert_exporter": "python",
   "pygments_lexer": "ipython3",
   "version": "3.7.4"
  }
 },
 "nbformat": 4,
 "nbformat_minor": 2
}
